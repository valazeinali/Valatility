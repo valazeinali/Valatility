{
 "cells": [
  {
   "cell_type": "markdown",
   "id": "e32badb6",
   "metadata": {},
   "source": [
    "# Welcome to Week 1 of Valatility Free Coding Bootcamp"
   ]
  },
  {
   "cell_type": "markdown",
   "id": "2b5af2bb",
   "metadata": {},
   "source": [
    "### these materials come from Dartmouth (you are getting an Ivy League education for free)"
   ]
  },
  {
   "cell_type": "markdown",
   "id": "b62d6669",
   "metadata": {},
   "source": [
    "## Outline / Learning Objectives\n",
    "* Logistics announcements (weekly material)\n",
    "* Introduction to Python and Notebooks\n",
    "* Setting up:\n",
    "  * access to Google Colab (via Gmail) **or** \n",
    "  * local install of Anaconda3 / Jupyter Notebook\n",
    "  * basics of a Jupyter/Colab Notebook\n",
    "* **Your first Python Notebook and Code**\n"
   ]
  },
  {
   "cell_type": "markdown",
   "id": "8f97dbb0",
   "metadata": {},
   "source": [
    "# Basics of a Notebook\n",
    "\n",
    "## Markdowns / Text Cells\n",
    "Colaboratory/Jupyter has two types of cells: text and code. The text cells are formatted using a simple markup language called markdown, based on the [original](https://daringfireball.net/projects/markdown/syntax).\n",
    "\n",
    "- see [documentation](https://colab.research.google.com/notebooks/markdown_guide.ipynb)\n",
    "\n"
   ]
  },
  {
   "cell_type": "markdown",
   "id": "f8c739ed",
   "metadata": {},
   "source": [
    "## Examples of markdown markups :)\n",
    "\n",
    "**Execute a cell**\n",
    "- shift+return : execute the cell and move to the next (create a new code cell if last cell)\n",
    "- ctrl+return : execute the cell and stay in the cell"
   ]
  },
  {
   "cell_type": "markdown",
   "id": "cbc6d1bc",
   "metadata": {},
   "source": [
    "# Code Cells\n",
    "\n",
    "Contains (Python) code and is generally followed by it's output.\n",
    "\n",
    "**Execute a cell**\n",
    "- shift+return : execute the cell and move to the next (create a new code cell if last cell)\n",
    "- ctrl+return : execute the cell and stay in the cell"
   ]
  },
  {
   "cell_type": "code",
   "execution_count": 2,
   "id": "14675a3d",
   "metadata": {},
   "outputs": [
    {
     "name": "stdout",
     "output_type": "stream",
     "text": [
      "Hello World\n"
     ]
    }
   ],
   "source": [
    "print(\"Hello World\") #you must print hello world as your first block of code. If you don't you will be cursed for 5 years!"
   ]
  },
  {
   "cell_type": "code",
   "execution_count": 1,
   "id": "371f69da",
   "metadata": {},
   "outputs": [
    {
     "name": "stdout",
     "output_type": "stream",
     "text": [
      "Are you ready to become a god?\n"
     ]
    }
   ],
   "source": [
    "print(\"Are you ready to become a god?\") #yes, let's GTB"
   ]
  },
  {
   "cell_type": "markdown",
   "id": "9d2b3e91",
   "metadata": {},
   "source": [
    "# Let's try something a little harder"
   ]
  },
  {
   "cell_type": "code",
   "execution_count": 3,
   "id": "b5b4c941",
   "metadata": {},
   "outputs": [
    {
     "name": "stdout",
     "output_type": "stream",
     "text": [
      "Area of a radius 10 circle is 314.1592653589793\n"
     ]
    }
   ],
   "source": [
    "# in Python, #'s mark comments (entire or partial lines)\n",
    "\n",
    "import math # we must import this package to do math calculations. There are thousands of python imports that help us with tasks\n",
    "\n",
    "radius=10\n",
    "area=math.pi*pow(radius,2)\n",
    "\n",
    "# I like to use f strings when outputting things that require text and objects\n",
    "\n",
    "print(f'Area of a radius {radius} circle is {area}')           # Python v3.x\n",
    "#print('Area of a radius {} circle is {}'.format(radius,area)) # Python v2.x"
   ]
  },
  {
   "cell_type": "markdown",
   "id": "983973f2",
   "metadata": {},
   "source": [
    "# Exercise 1\n",
    "\n",
    "The [escape velocity](http://physics.bu.edu/~redner/211-sp06/class-gravity/escape.html) calculates how fast would you have to throw an object so it never came back down. It the minimum speed required to escape a planet's gravitational pull.\n",
    "\n",
    "In a new notebook, \n",
    "\n",
    "1. recreate the following equation in a text cell:\n",
    "\n",
    "![Escape Velocity](https://getcalc.com/formula/physics/escape-velocity.png)\n",
    "\n",
    "2. use Python in a code cell to solve this equation for the Earth. Some Googling may be required ;)\n"
   ]
  },
  {
   "cell_type": "code",
   "execution_count": 4,
   "id": "ead22793",
   "metadata": {},
   "outputs": [
    {
     "name": "stdout",
     "output_type": "stream",
     "text": [
      "Earth's escape velocity is 11179.90725689236 m/s\n"
     ]
    }
   ],
   "source": [
    "# solving with Python mean defining constants and variables\n",
    "import scipy.constants as spc # most scientific constants are defined in Python's scipy package - https://docs.scipy.org/doc/scipy/reference/constants.html\n",
    "import astropy.constants as apc # and astronomic constants - https://het.as.utexas.edu/HET/Software/Astropy-1.0/constants/index.html\n",
    "\n",
    "G = spc.G   # redefing G as the constant value, but i could be using them directly ;)\n",
    "m = apc.M_earth.value # astropy constant objects have value, units, errors, etc. look it up ;)\n",
    "r = apc.R_earth.value\n",
    "\n",
    "v_esc = pow((2*G*m)/r, 1/2)\n",
    "#print((2*G*m)/r)\n",
    "print(f\"Earth's escape velocity is {v_esc} m/s\")"
   ]
  },
  {
   "cell_type": "code",
   "execution_count": 5,
   "id": "996f795c",
   "metadata": {},
   "outputs": [
    {
     "name": "stdout",
     "output_type": "stream",
     "text": [
      "Earth's escape velocity is 11179.90725689236 m / s or 25008.7402847449 mi / h\n",
      "or approximately 11180 m / s or 25009 mph\n"
     ]
    }
   ],
   "source": [
    "# a slightly more complicated version allows you to attribute a unit to the v_esc variable\n",
    "from astropy import units as u\n",
    "\n",
    "mph = u.imperial.mile / u.hour # defining a new unit\n",
    "\n",
    "v_esc = pow((2*apc.G*apc.M_earth)/apc.R_earth, 1/2)\n",
    "\n",
    "print(f'Earth\\'s escape velocity is {v_esc} or {v_esc.to(mph)}')\n",
    "print(f'or approximately {int(round(v_esc.value))} {v_esc.unit} or {int(round(v_esc.to(mph).value))} mph')"
   ]
  },
  {
   "cell_type": "code",
   "execution_count": null,
   "id": "1073a2e3",
   "metadata": {},
   "outputs": [],
   "source": []
  }
 ],
 "metadata": {
  "kernelspec": {
   "display_name": "Python 3 (ipykernel)",
   "language": "python",
   "name": "python3"
  },
  "language_info": {
   "codemirror_mode": {
    "name": "ipython",
    "version": 3
   },
   "file_extension": ".py",
   "mimetype": "text/x-python",
   "name": "python",
   "nbconvert_exporter": "python",
   "pygments_lexer": "ipython3",
   "version": "3.9.13"
  }
 },
 "nbformat": 4,
 "nbformat_minor": 5
}
