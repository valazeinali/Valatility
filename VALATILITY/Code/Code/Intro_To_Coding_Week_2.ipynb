{
 "cells": [
  {
   "cell_type": "markdown",
   "metadata": {
    "colab_type": "text",
    "id": "FD8TdVB5xISz"
   },
   "source": [
    "# Python Comments, Varibles, Data Types and Arithmetic Operators\n",
    "\n",
    "\n",
    "Sources: \n",
    "- [Real Python - Comments](https://realpython.com/python-comments-guide/)\n",
    "- [DEV.to 30 days of Python](https://dev.to/arindamdawn/series/7425), day 2\n",
    "- [Teclado 30 Days of Python](https://blog.tecladocode.com/30-days-of-python/) days 1,2"
   ]
  },
  {
   "cell_type": "markdown",
   "metadata": {
    "colab_type": "text",
    "id": "uGAo3G7B6dRY"
   },
   "source": [
    "# Comments\n",
    "Python Commenting Basics\n",
    "Comments are for developers. They describe parts of the code where necessary to facilitate the understanding of programmers, including yourself.\n",
    "\n",
    "To write a comment in Python, simply put the hash mark # before your desired comment:\n",
    "```\n",
    "# This is a comment\n",
    "```\n",
    "Python ignores everything after the hash mark and up to the end of the line. You can insert them anywhere in your code, even inline with other code:\n",
    "```\n",
    "print(\"This will run.\")  # This won't run\n",
    "```\n",
    "When you run the above code, you will only see the output This will run. Everything else is ignored.\n",
    "\n",
    "### Python Multiline Comments\n",
    "\n",
    "While Python doesn’t have native multiline commenting functionality, you can create multiline comments in Python. There are two simple ways to do so.\n",
    "\n",
    "The first way is simply by pressing the return key after each line, adding a new hash mark and continuing your comment from there:\n",
    "```\n",
    "def multiline_example():\n",
    "  # This is a pretty good example\n",
    "  # of how you can spread comments\n",
    "  # over multiple lines in Python\n",
    "```\n",
    "Each line that starts with a hash mark will be ignored by the program.\n",
    "\n",
    "Another thing you can do is use multiline strings by wrapping your comment inside a set of triple quotes:\n",
    "```\n",
    "\"\"\"\n",
    "If I really hate pressing `enter` and\n",
    "typing all those hash marks, I could\n",
    "just do this instead\n",
    "\"\"\"\n",
    "```\n",
    "Everything enclosed in the triple quotes will function as a comment."
   ]
  },
  {
   "cell_type": "markdown",
   "metadata": {
    "colab_type": "text",
    "id": "tg3oFXrO9etu"
   },
   "source": [
    "# Functions\n",
    "A function is a block of organized, reusable code that is used to perform a single, related action. Functions provide better modularity for your application and a high degree of code reusing. [Source](https://www.tutorialspoint.com/python/python_functions.htm)\n",
    "A function _call_ is made of 2 parts:\n",
    "- name of the function\n",
    "- parameter(s) - 0 or more, between `(` and `)`, separated by commas, naming is optional\n",
    "- return value or `None` (if no return value is provided) - return values can be saved and/or reused in functions and arithmetic expressions.\n",
    "\n",
    "For example the `print` function:\n",
    "- `print` is the name of the function that prints anything that is passed as a parameter between `(` and `)` to the (terminal's) standard output, and ended with a carriage return.\n",
    "- if no parameter is passed `()`, then only the carriage return is printed\n",
    "- if a variable is passed, its value (or a _string_ reprenestation of it) is printed.\n",
    "- if multiple variable/values are passed, they are all printed, separated by a single space\n",
    "- the `sep` optional parameter is used to redefined the defalt separator (single space) to a new string of characters \n",
    "\n",
    "Or the `int` function that tries to turn anything into an integer value (turcating the decimal value)\n",
    "```\n",
    "print(int(2.5)) # the int function returns an integer that can be printed, or used in another function\n",
    "int_value = int(3.69) # saved or\n",
    "result = int(3.99)+7 # used in an expression\n",
    "```"
   ]
  },
  {
   "cell_type": "code",
   "execution_count": 6,
   "metadata": {
    "colab": {
     "base_uri": "https://localhost:8080/",
     "height": 122
    },
    "colab_type": "code",
    "executionInfo": {
     "elapsed": 447,
     "status": "ok",
     "timestamp": 1600714082133,
     "user": {
      "displayName": "Christian Darabos",
      "photoUrl": "https://lh3.googleusercontent.com/a-/AOh14Gj58rX31OVqoCy41duHsoMyAFVv9Ammc6u2HhU3=s64",
      "userId": "13696541032900097213"
     },
     "user_tz": 240
    },
    "id": "Sv2D1-Sa-6qv",
    "outputId": "dfc71ffd-c62a-422e-9733-de1a986a9447"
   },
   "outputs": [
    {
     "name": "stdout",
     "output_type": "stream",
     "text": [
      "Hello\n",
      "\n",
      "Bye\n",
      "123\n",
      "1 2 3\n",
      "1, 2, 3\n"
     ]
    }
   ],
   "source": [
    "print('Hello') \n",
    "print()\n",
    "print('Bye')\n",
    "print(123)\n",
    "print(1,2,3)\n",
    "print(1,2,3,sep=', ')"
   ]
  },
  {
   "cell_type": "markdown",
   "metadata": {
    "colab_type": "text",
    "id": "aDhC9Wqr5Ap-"
   },
   "source": [
    "## Variables\n",
    "A variable is a space in memory that:\n",
    "- stores a value (of a certain type)\n",
    "- is refered to by a name\n",
    "\n",
    "In python, these are the variable naming conventions:\n",
    "\n",
    "* Variables should start with a letter (preferrably lowercase) or underscore and can be followed by numbers or underscore\n",
    "* Snake case is the conventional way of writing variable with multiple words such as user_name (Javascript recommends camelCasing like userName)\n",
    "* They are case sensitive\n",
    "* Keywords should not overwrite keywords (Python keywords [link text](https://www.w3schools.com/python/python_ref_keywords.asp))\n",
    "\n",
    "```\n",
    "  x = 32 # x is the variable name, 32 is its value\n",
    "  first_name = \"Joe\" # 'firstname' is the variable name, 'Joe' is the value\n",
    "```\n",
    "A single `equal` sign is the assignment operator. As in `x is assigned the value 10`. Most variable types (but not all) are _mutable_, meaning that their value can change / be changed."
   ]
  },
  {
   "cell_type": "markdown",
   "metadata": {
    "colab_type": "text",
    "id": "alYpoXGBz6cT"
   },
   "source": [
    "# Data Types \n",
    "Data types are a way to represent values. Python comprises of these fundamental data types:\n",
    "\n",
    "### Primitive Types\n",
    "- str (to represent strings)\n",
    "- int (to represent numbers)\n",
    "- float (to represent decimal numbers)\n",
    "- bool (to represent boolean)\n",
    "\n",
    "### Composite Types\n",
    "\n",
    "- list\n",
    "- tuple\n",
    "- set\n",
    "- dict\n",
    "- complex (not used very often)\n",
    "- None (to represent an absence of value)\n",
    "\n",
    "These are the standard data types available in Python. \n",
    "\n",
    "### Classes and Objects\n",
    "To create our own custom type, `classes` are used. Specialized data\n",
    "types can also be used via importing external libraries or modules.\n"
   ]
  },
  {
   "cell_type": "markdown",
   "metadata": {
    "colab_type": "text",
    "id": "y6xq48i4kfsp"
   },
   "source": []
  },
  {
   "cell_type": "markdown",
   "metadata": {
    "colab_type": "text",
    "id": "9xMQGF3m1xZ7"
   },
   "source": [
    "# Primitive Types\n",
    "\n",
    "## Numeric Types\n",
    "There are 3 types of numeric data types:\n",
    "\n",
    "* int (stores whole numbers of unlimited size)\n",
    "* float (stores floating-point real number values)\n",
    "* complex (real+imaginary - skipping here).\n",
    "\n",
    "The `type` function is used to determine the type of a value or an expression. \n",
    "```\n",
    "num = 100 # variable assignement\n",
    "print(type(num)) # <class 'int'>\n",
    "\n",
    "num2 = 99.99\n",
    "print(type(num2)) # <class 'float>\n",
    "\n",
    "expression1 = num * 10\n",
    "print(type(expression1)) # <class 'int'>\n",
    "\n",
    "expression2 = num + num2\n",
    "print(type(expression2)) # <class 'float'>\n",
    "```\n",
    "### Math functions\n",
    "There are some built-in mathematical functions that allow us to calculate various mathematical operations with ease.\n",
    "[Math Functions and Constants](https://docs.python.org/3/library/math.html) contains all the built-in math functions and constants. Other functions and constands require to `import` the `math` package.\n",
    "```\n",
    "print(round(2.1)) # 2\n",
    "print(round(5.9)) # 6\n",
    "print(abs(-34)) # 34\n",
    "```\n",
    "\n",
    "### Arithmetic operators\n",
    "Basic arithmetic is accomplished primarily through the use of operator symbols :\n",
    "\n",
    "Operator | Name | Example\n",
    "--- | --- | ---\n",
    "`+`\t| Addition | `x + y`\n",
    "`-`\t| Subtraction\t| `x - y`\t\n",
    "`*`\t| Multiplication\t| `x * y`\t\n",
    "`/`\t| Division\t| `x / y\t`\n",
    "`%`\t| Modulus\t| `x % y`\t\n",
    "`**`\t| Exponentiation\t| `x ** y`\t\n",
    "`//`\t| Floor division\t| `x // y`\n",
    "\n",
    "```\n",
    "1 + 2\n",
    "3.4 + 11\n",
    "8 + 4.0\n",
    "```\n",
    "When we use an operator like this, we’re writing an expression, so when we write 1 + 2, we’re going to get an integer with the value 3.\n",
    "\n",
    "This is an important thing to keep in mind, because it affects our output when we use something like print. If we try to print something like this:\n",
    "```\n",
    "print(1 + 2) # 3 <- integer\n",
    "```\n",
    "Python is not going to print out the operation, because by time print runs, 1 + 2 has already been evaluated to a single value: the integer, 3.\n",
    "\n",
    "Let’s look at a few more examples:\n",
    "```\n",
    "print(3.4 + 11) # 14.4 <- float!!!\n",
    "print(8 + 4.0)  # 12.0 <- float!!!\n",
    "```\n",
    "**If either of the operands for + is a float, the expression evaluates to a float.** The same is true of several of the other operators, including - and * (which is used for multiplication).\n",
    "\n",
    "These two operators work in exactly the same way as +. Here are a few examples:\n",
    "```\n",
    "print(7 - 5)\n",
    "print(5 - 11.0)\n",
    "print(-4 - 9)\n",
    "print(4 * 7)\n",
    "print(2 * 29.0)\n",
    "print(8.2 * 34)\n",
    "```\n",
    "Division is performed using the / operator, but **when performing division, the result is always a float**. It doesn’t matter if both of the numbers are integers, or if the result would usually be a whole number. You can see this by running the code below:\n",
    "```\n",
    "print(5 / 6.5)\n",
    "print(20 / 2)\n",
    "print(5.5 / 0.5)\n",
    "```\n",
    "\n",
    "#### Using multiple operators\n",
    "Perform more complicated calculations by chaining together different operators: \n",
    "```\n",
    "5 * 3 - 6 + 2 / 4\n",
    "```\n",
    "When we do this, the order the **expressions are evaluated in corresponds to [BODMAS](https://byjus.com/maths/bodmas-rule/)***.\n",
    "\n",
    "#### Grouping operations with parentheses\n",
    "\n",
    "Just like in normal mathematics, we can use parentheses to group operations, and these expressions will be given precedence in the order of evaluation.\n",
    "```\n",
    "(4 - 5) * (5 + 3) / 2\n",
    "```\n",
    "The result is an integer with the value `-4`.\n",
    "\n",
    "We can put this whole thing inside the parentheses when calling print if we want to see the output:\n",
    "```\n",
    "print((4 - 5) * (5 + 3) / 2)\n",
    "```"
   ]
  },
  {
   "cell_type": "markdown",
   "metadata": {
    "colab_type": "text",
    "id": "eNykc6lnCAkp"
   },
   "source": [
    "## Strings\n",
    "Strings in Python are an ordered sequence of characters.\n",
    "```\n",
    "name = 'Python' # string assignment within single quotes\n",
    "name2 = \"Python\" # string assingment within double quotes\n",
    "name3 = '''This is a a very long string and supports \n",
    "        multiline statements as well''' # string assingment within 3 single quotes\n",
    "name4 = \"Hello! Here's \\\"Rockstar Programmer\\\"\" # string with escaped character sequence\n",
    "print(type(name)) # <class 'str'>\n",
    "print(type(name2)) # <class 'str'>\n",
    "print(type(name3)) # <class 'str'>\n",
    "print(type(name4)) # <class 'str'>\n",
    "```\n",
    "\n",
    "`Escape` characters `\\` is used to represent _uninterpreted_ or _invisible_ characters:\n",
    "- a single and a double quote in the same string `'Here\\'s my \"friend\"'`\n",
    "- a tabulation `\\t`\n",
    "- a carriage return `\\n`\n",
    "\n",
    "\n",
    "### String Concatenation\n",
    "\n",
    "Strings can be concatenated using the `+` operator. It simply joins or 'concatenates' strings.\n",
    "```\n",
    "first_name = 'Mike'\n",
    "last_name = 'Tyson'\n",
    "print(first_name + ' ' + last_name) # Mike Tyson or\n",
    "print(f'{first_name} {last_name}') or\n",
    "print('{} {}'.format(first_name, last_name))\n",
    "```\n",
    "As you can see, the same `operator` can do different operations depending on the context and the type of the operands (\"adding\" 2 strings is not the same as adding 2 numbers). There are other examples of this, such as the multiplication operator `*`.\n",
    "We will talk more about _string formatting_ soon.\n",
    " \n",
    "### Type Conversion\n",
    "\n",
    "Python will throw an error if operations are performed with different types\n",
    "```\n",
    "user_name = 'John'\n",
    "age = 40\n",
    "print(user_name + age) # TypeError: can only concatenate str (not \"int\") to str\n",
    "# no implicite conversion in python\n",
    "```\n",
    "In Python, types need to be converted **explicitly** to perform operations with different types:\n",
    "```\n",
    "    user_name = 'John'\n",
    "    age = 40\n",
    "    print(user_name + str(age)) # John40\n",
    "    print(type str(age)) # <class 'str'>\n",
    "```\n",
    "Similarly, strings can be converted into numbers\n",
    "```\n",
    "lucky_number = 7\n",
    "lucky_number_stringified = str(7)\n",
    "lucky_number_extracted = int(lucky_number_stringified)\n",
    "print(lucky_number_extracted) # 7\n",
    "```"
   ]
  },
  {
   "cell_type": "code",
   "execution_count": 10,
   "metadata": {
    "colab": {},
    "colab_type": "code",
    "id": "rvCGbiPrFs7u"
   },
   "outputs": [
    {
     "name": "stdout",
     "output_type": "stream",
     "text": [
      "John  40\n"
     ]
    }
   ],
   "source": [
    "user_name = 'John'\n",
    "age = 40\n",
    "print(f'{user_name}  {age}')"
   ]
  },
  {
   "cell_type": "code",
   "execution_count": null,
   "metadata": {},
   "outputs": [],
   "source": []
  }
 ],
 "metadata": {
  "colab": {
   "collapsed_sections": [],
   "name": "QBS101-W20-week02-material-part2-python.ipynb",
   "provenance": []
  },
  "kernelspec": {
   "display_name": "Python 3",
   "language": "python",
   "name": "python3"
  },
  "language_info": {
   "codemirror_mode": {
    "name": "ipython",
    "version": 3
   },
   "file_extension": ".py",
   "mimetype": "text/x-python",
   "name": "python",
   "nbconvert_exporter": "python",
   "pygments_lexer": "ipython3",
   "version": "3.7.6"
  }
 },
 "nbformat": 4,
 "nbformat_minor": 1
}
